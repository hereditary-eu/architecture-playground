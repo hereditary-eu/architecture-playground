{
 "cells": [
  {
   "cell_type": "markdown",
   "metadata": {},
   "source": [
    "# Graphdb + Dremio Playground\n"
   ]
  },
  {
   "cell_type": "markdown",
   "metadata": {},
   "source": [
    "**NOTE**: this notebook is written in JavaScript, so you need Jupyter + a JavaScript interpreter to run it. You may use the Deno interpreter, which is powerful and comes with a prebuild support for notebooks\n",
    "```bash\n",
    "curl -fsSL https://deno.land/install.sh | sh  # Install Deno\n",
    "\"$HOME/.deno/bin/deno\" jupyter --install      # Add Deno to Jupyter\n",
    "```\n",
    "now just restart VSCode/Jupyter and you should see Deno amongst the kernels"
   ]
  },
  {
   "cell_type": "code",
   "execution_count": 1,
   "metadata": {},
   "outputs": [
    {
     "name": "stdout",
     "output_type": "stream",
     "text": [
      "hello world!\n"
     ]
    }
   ],
   "source": [
    "const hello = \"hello world!\"\n",
    "console.log(hello)"
   ]
  },
  {
   "cell_type": "code",
   "execution_count": 10,
   "metadata": {},
   "outputs": [],
   "source": [
    "import { Client } from \"https://deno.land/x/postgres/mod.ts\";\n",
    "\n",
    "const client = new Client({\n",
    "  user: \"user\",\n",
    "  database: \"example\",\n",
    "  password: \"pass\",\n",
    "  hostname: \"localhost\",\n",
    "  port: 5432,\n",
    "});\n",
    "await client.connect();\n"
   ]
  },
  {
   "cell_type": "markdown",
   "metadata": {},
   "source": [
    "## Setup Dremio\n",
    "\n",
    "<https://docs.dremio.com/cloud/reference/api/>"
   ]
  },
  {
   "cell_type": "code",
   "execution_count": 1,
   "metadata": {},
   "outputs": [
    {
     "name": "stdout",
     "output_type": "stream",
     "text": [
      "New user created {\n",
      "  resourcePath: \"/user/dremioUser\",\n",
      "  userName: \"dremioUser\",\n",
      "  userConfig: {\n",
      "    uid: { id: \"c79a50fe-72d9-46cd-b8fc-f313cecc4db5\" },\n",
      "    userName: \"dremioUser\",\n",
      "    firstName: \"admin\",\n",
      "    lastName: \"\",\n",
      "    email: \"luca.fabbian.1999@gmail.com\",\n",
      "    createdAt: 1726054479889,\n",
      "    modifiedAt: 1726054479888,\n",
      "    version: \"iNT7OexMCVY=\",\n",
      "    active: true\n",
      "  },\n",
      "  name: \"dremioUser\",\n",
      "  id: \"c79a50fe-72d9-46cd-b8fc-f313cecc4db5\",\n",
      "  links: { self: \"/user/dremioUser\" }\n",
      "}\n",
      "Auth token: 1jeef3og4ltsqegcuddp33fe61 \n",
      "Expires at: 19:34:40 (30hours)\n"
     ]
    }
   ],
   "source": [
    "const hostname = \"http://localhost:9047\";\n",
    "const endpoint = `${hostname}/api/v3`;\n",
    "const userName = 'dremioUser'\n",
    "const password = 'dremioPass1' // password needs a number, otherwise you will get error 403\n",
    "\n",
    "const post = async (url: string, data: Record<string, unknown>) => {\n",
    "    const response = await fetch(url, {\n",
    "        method: \"POST\",\n",
    "        headers: {\n",
    "        \"Content-Type\": \"application/json\",\n",
    "        },\n",
    "        body: JSON.stringify(data),\n",
    "    });\n",
    "\n",
    "    if (!response.ok) throw new Error(`HTTP error! status: ${response.status}`);  \n",
    "    return response.json();\n",
    "}\n",
    "\n",
    "\n",
    "// create first user if none\n",
    "const firstName = 'admin'\n",
    "const lastName = ''\n",
    "const email = 'luca.fabbian.1999@gmail.com'\n",
    "const createdAt = Date.now()\n",
    "const response = await fetch(`${hostname}/apiv2/bootstrap/firstuser`, {\n",
    "    method: \"PUT\",\n",
    "    headers: {\n",
    "      \"Authorization\": '_dremionull',\n",
    "      \"Content-Type\": \"application/json\",\n",
    "    },\n",
    "    body: JSON.stringify({userName, password, firstName, lastName, email, createdAt}),\n",
    "});\n",
    "\n",
    "if (!response.ok ){\n",
    "  if(response.status !== 400) throw new Error(`Unexpected HTTP error! status: ${response.status}`);\n",
    "  console.log(\"User alredy there, no need to create a new one\")\n",
    "}else{\n",
    "  console.log(\"New user created\", await response.json())\n",
    "}\n",
    "\n",
    "\n",
    "// get auth token\n",
    "const {token, expires } = await post(`${hostname}/apiv2/login`, { userName, password })\n",
    "console.log('Auth token:', token, '\\nExpires at:', (new Date(expires)).toLocaleTimeString('en-GB'), '(30hours)')\n",
    "\n",
    "// helper function to make dremio api calls\n",
    "const dremio = async(method: 'GET'|'POST', url: string, data: Record<string, unknown>)  => {\n",
    "    const response = await fetch(`${endpoint}${url}`, {\n",
    "        method,\n",
    "        headers: {\n",
    "            'Authorization': `Bearer ${token}`,\n",
    "            \"Content-Type\": \"application/json\",\n",
    "        },\n",
    "        body: JSON.stringify(data),\n",
    "    });\n",
    "\n",
    "    if (!response.ok) throw new Error(`HTTP error! status: ${response.status}`);  \n",
    "    return response.json();\n",
    "}"
   ]
  },
  {
   "cell_type": "code",
   "execution_count": 20,
   "metadata": {},
   "outputs": [
    {
     "data": {
      "text/plain": [
       "{\n",
       "  entityType: \u001b[32m\"source\"\u001b[39m,\n",
       "  config: {\n",
       "    path: \u001b[32m\"/csv\"\u001b[39m,\n",
       "    defaultCtasFormat: \u001b[32m\"ICEBERG\"\u001b[39m,\n",
       "    isPartitionInferenceEnabled: \u001b[33mfalse\u001b[39m\n",
       "  },\n",
       "  state: { status: \u001b[32m\"good\"\u001b[39m, suggestedUserAction: \u001b[32m\"\"\u001b[39m, messages: [] },\n",
       "  id: \u001b[32m\"1149e2d9-75be-49d3-80fc-04b3f56e828b\"\u001b[39m,\n",
       "  tag: \u001b[32m\"6JUaz9QI0Xg=\"\u001b[39m,\n",
       "  type: \u001b[32m\"NAS\"\u001b[39m,\n",
       "  name: \u001b[32m\"mockcsv\"\u001b[39m,\n",
       "  createdAt: \u001b[32m\"2024-09-11T12:10:18.618Z\"\u001b[39m,\n",
       "  metadataPolicy: {\n",
       "    authTTLMs: \u001b[33m86400000\u001b[39m,\n",
       "    namesRefreshMs: \u001b[33m3600000\u001b[39m,\n",
       "    datasetRefreshAfterMs: \u001b[33m3600000\u001b[39m,\n",
       "    datasetExpireAfterMs: \u001b[33m10800000\u001b[39m,\n",
       "    datasetUpdateMode: \u001b[32m\"PREFETCH_QUERIED\"\u001b[39m,\n",
       "    deleteUnavailableDatasets: \u001b[33mtrue\u001b[39m,\n",
       "    autoPromoteDatasets: \u001b[33mfalse\u001b[39m\n",
       "  },\n",
       "  accelerationGracePeriodMs: \u001b[33m0\u001b[39m,\n",
       "  accelerationRefreshPeriodMs: \u001b[33m0\u001b[39m,\n",
       "  accelerationRefreshSchedule: \u001b[32m\"0 0 8 * * ?\"\u001b[39m,\n",
       "  accelerationActivePolicyType: \u001b[32m\"PERIOD\"\u001b[39m,\n",
       "  accelerationNeverExpire: \u001b[33mfalse\u001b[39m,\n",
       "  accelerationNeverRefresh: \u001b[33mfalse\u001b[39m,\n",
       "  children: [\n",
       "    {\n",
       "      id: \u001b[32m\"dremio:/mockcsv/email.csv\"\u001b[39m,\n",
       "      path: [ \u001b[32m\"mockcsv\"\u001b[39m, \u001b[32m\"email.csv\"\u001b[39m ],\n",
       "      type: \u001b[32m\"FILE\"\u001b[39m\n",
       "    },\n",
       "    {\n",
       "      id: \u001b[32m\"dremio:/mockcsv/cities.csv\"\u001b[39m,\n",
       "      path: [ \u001b[32m\"mockcsv\"\u001b[39m, \u001b[32m\"cities.csv\"\u001b[39m ],\n",
       "      type: \u001b[32m\"FILE\"\u001b[39m\n",
       "    },\n",
       "    {\n",
       "      id: \u001b[32m\"a21cc5af-4e54-4754-ad78-09700065936a\"\u001b[39m,\n",
       "      path: [ \u001b[32m\"mockcsv\"\u001b[39m, \u001b[32m\"generated_mockdata_30GB.csv\"\u001b[39m ],\n",
       "      type: \u001b[32m\"DATASET\"\u001b[39m,\n",
       "      datasetType: \u001b[32m\"PROMOTED\"\u001b[39m\n",
       "    },\n",
       "    {\n",
       "      id: \u001b[32m\"dremio:/mockcsv/username-password-recovery-code.csv\"\u001b[39m,\n",
       "      path: [ \u001b[32m\"mockcsv\"\u001b[39m, \u001b[32m\"username-password-recovery-code.csv\"\u001b[39m ],\n",
       "      type: \u001b[32m\"FILE\"\u001b[39m\n",
       "    },\n",
       "    {\n",
       "      id: \u001b[32m\"dremio:/mockcsv/generated_mockdata_60GB.csv\"\u001b[39m,\n",
       "      path: [ \u001b[32m\"mockcsv\"\u001b[39m, \u001b[32m\"generated_mockdata_60GB.csv\"\u001b[39m ],\n",
       "      type: \u001b[32m\"FILE\"\u001b[39m\n",
       "    },\n",
       "    {\n",
       "      id: \u001b[32m\"dremio:/mockcsv/generated_mockdata_120GB.csv\"\u001b[39m,\n",
       "      path: [ \u001b[32m\"mockcsv\"\u001b[39m, \u001b[32m\"generated_mockdata_120GB.csv\"\u001b[39m ],\n",
       "      type: \u001b[32m\"FILE\"\u001b[39m\n",
       "    }\n",
       "  ],\n",
       "  allowCrossSourceSelection: \u001b[33mfalse\u001b[39m,\n",
       "  disableMetadataValidityCheck: \u001b[33mfalse\u001b[39m\n",
       "}"
      ]
     },
     "execution_count": 20,
     "metadata": {},
     "output_type": "execute_result"
    }
   ],
   "source": [
    "// inspect source(s)\n",
    "await dremio('GET', '/catalog/1149e2d9-75be-49d3-80fc-04b3f56e828b')"
   ]
  },
  {
   "cell_type": "code",
   "execution_count": 31,
   "metadata": {},
   "outputs": [
    {
     "ename": "Error",
     "evalue": "HTTP error! status: 400",
     "output_type": "error",
     "traceback": [
      "Stack trace:",
      "Error: HTTP error! status: 400",
      "    at dremio (<anonymous>:59:27)",
      "    at eventLoopTick (ext:core/01_core.js:175:7)",
      "    at async <anonymous>:1:22"
     ]
    }
   ],
   "source": [
    "await dremio('POST', '/catalog/' + encodeURIComponent('dremio:/mockcsv/generated_mockdata_60GB.csv'), {\n",
    "    entityType: 'dataset',\n",
    "    id: \"dremio:/mockcsv/generated_mockdata_60GB.csv\",\n",
    "    path: [ \"mockcsv\", \"generated_mockdata_60GB.csv\" ],\n",
    "    type: \"DATASET\",\n",
    "    \"format\": {\n",
    "        \"type\": \"Text\",\n",
    "        \"fullPath\":  [ \"mockcsv\", \"generated_mockdata_60GB.csv\" ],\n",
    "        \"ctime\": 0,\n",
    "        \"isFolder\": false,\n",
    "        \"location\": \"/mockcsv/generated_mockdata_60GB.csv\",\n",
    "        \"fieldDelimiter\": \",\",\n",
    "        \"skipFirstLine\": false,\n",
    "        \"extractHeader\": false,\n",
    "        \"quote\": \"\\\"\",\n",
    "        \"comment\": \"#\",\n",
    "        \"escape\": \"\\\"\",\n",
    "        \"lineDelimiter\": \"\\r\\n\",\n",
    "        \"autoGenerateColumnNames\": true,\n",
    "        \"trimHeader\": true\n",
    "    }\n",
    "})"
   ]
  },
  {
   "cell_type": "code",
   "execution_count": 15,
   "metadata": {},
   "outputs": [
    {
     "data": {
      "text/plain": [
       "{\n",
       "  entityType: \u001b[32m\"source\"\u001b[39m,\n",
       "  config: {\n",
       "    path: \u001b[32m\"/csv\"\u001b[39m,\n",
       "    defaultCtasFormat: \u001b[32m\"ICEBERG\"\u001b[39m,\n",
       "    isPartitionInferenceEnabled: \u001b[33mfalse\u001b[39m\n",
       "  },\n",
       "  state: { status: \u001b[32m\"good\"\u001b[39m, suggestedUserAction: \u001b[32m\"\"\u001b[39m, messages: [] },\n",
       "  id: \u001b[32m\"1149e2d9-75be-49d3-80fc-04b3f56e828b\"\u001b[39m,\n",
       "  tag: \u001b[32m\"6JUaz9QI0Xg=\"\u001b[39m,\n",
       "  type: \u001b[32m\"NAS\"\u001b[39m,\n",
       "  name: \u001b[32m\"mockcsv\"\u001b[39m,\n",
       "  createdAt: \u001b[32m\"2024-09-11T12:10:18.618Z\"\u001b[39m,\n",
       "  metadataPolicy: {\n",
       "    authTTLMs: \u001b[33m86400000\u001b[39m,\n",
       "    namesRefreshMs: \u001b[33m3600000\u001b[39m,\n",
       "    datasetRefreshAfterMs: \u001b[33m3600000\u001b[39m,\n",
       "    datasetExpireAfterMs: \u001b[33m10800000\u001b[39m,\n",
       "    datasetUpdateMode: \u001b[32m\"PREFETCH_QUERIED\"\u001b[39m,\n",
       "    deleteUnavailableDatasets: \u001b[33mtrue\u001b[39m,\n",
       "    autoPromoteDatasets: \u001b[33mfalse\u001b[39m\n",
       "  },\n",
       "  accelerationGracePeriodMs: \u001b[33m0\u001b[39m,\n",
       "  accelerationRefreshPeriodMs: \u001b[33m0\u001b[39m,\n",
       "  accelerationRefreshSchedule: \u001b[32m\"0 0 8 * * ?\"\u001b[39m,\n",
       "  accelerationActivePolicyType: \u001b[32m\"PERIOD\"\u001b[39m,\n",
       "  accelerationNeverExpire: \u001b[33mfalse\u001b[39m,\n",
       "  accelerationNeverRefresh: \u001b[33mfalse\u001b[39m,\n",
       "  children: [\n",
       "    {\n",
       "      id: \u001b[32m\"dremio:/mockcsv/email.csv\"\u001b[39m,\n",
       "      path: [ \u001b[32m\"mockcsv\"\u001b[39m, \u001b[32m\"email.csv\"\u001b[39m ],\n",
       "      type: \u001b[32m\"FILE\"\u001b[39m\n",
       "    },\n",
       "    {\n",
       "      id: \u001b[32m\"dremio:/mockcsv/cities.csv\"\u001b[39m,\n",
       "      path: [ \u001b[32m\"mockcsv\"\u001b[39m, \u001b[32m\"cities.csv\"\u001b[39m ],\n",
       "      type: \u001b[32m\"FILE\"\u001b[39m\n",
       "    },\n",
       "    {\n",
       "      id: \u001b[32m\"dremio:/mockcsv/generated_mockdata_30GB.csv\"\u001b[39m,\n",
       "      path: [ \u001b[32m\"mockcsv\"\u001b[39m, \u001b[32m\"generated_mockdata_30GB.csv\"\u001b[39m ],\n",
       "      type: \u001b[32m\"FILE\"\u001b[39m\n",
       "    },\n",
       "    {\n",
       "      id: \u001b[32m\"dremio:/mockcsv/username-password-recovery-code.csv\"\u001b[39m,\n",
       "      path: [ \u001b[32m\"mockcsv\"\u001b[39m, \u001b[32m\"username-password-recovery-code.csv\"\u001b[39m ],\n",
       "      type: \u001b[32m\"FILE\"\u001b[39m\n",
       "    },\n",
       "    {\n",
       "      id: \u001b[32m\"dremio:/mockcsv/generated_mockdata_60GB.csv\"\u001b[39m,\n",
       "      path: [ \u001b[32m\"mockcsv\"\u001b[39m, \u001b[32m\"generated_mockdata_60GB.csv\"\u001b[39m ],\n",
       "      type: \u001b[32m\"FILE\"\u001b[39m\n",
       "    },\n",
       "    {\n",
       "      id: \u001b[32m\"dremio:/mockcsv/generated_mockdata_120GB.csv\"\u001b[39m,\n",
       "      path: [ \u001b[32m\"mockcsv\"\u001b[39m, \u001b[32m\"generated_mockdata_120GB.csv\"\u001b[39m ],\n",
       "      type: \u001b[32m\"FILE\"\u001b[39m\n",
       "    }\n",
       "  ],\n",
       "  allowCrossSourceSelection: \u001b[33mfalse\u001b[39m,\n",
       "  disableMetadataValidityCheck: \u001b[33mfalse\u001b[39m\n",
       "}"
      ]
     },
     "execution_count": 15,
     "metadata": {},
     "output_type": "execute_result"
    }
   ],
   "source": [
    "await dremio('POST', '/catalog', {\n",
    "    entityType: 'source',\n",
    "    type: \"NAS\",\n",
    "    name: \"mockcsv\",\n",
    "    config: {\n",
    "        path: \"/csv\",\n",
    "        defaultCtasFormat: \"ICEBERG\",\n",
    "        isPartitionInferenceEnabled: false\n",
    "    },\n",
    "})"
   ]
  },
  {
   "cell_type": "code",
   "execution_count": 11,
   "metadata": {},
   "outputs": [
    {
     "data": {
      "text/plain": [
       "{\n",
       "  entityType: \u001b[32m\"source\"\u001b[39m,\n",
       "  config: {\n",
       "    hostname: \u001b[32m\"postgres\"\u001b[39m,\n",
       "    port: \u001b[32m\"5432\"\u001b[39m,\n",
       "    databaseName: \u001b[32m\"example\"\u001b[39m,\n",
       "    username: \u001b[32m\"user\"\u001b[39m,\n",
       "    password: \u001b[32m\"$DREMIO_EXISTING_VALUE$\"\u001b[39m,\n",
       "    authenticationType: \u001b[32m\"MASTER\"\u001b[39m,\n",
       "    fetchSize: \u001b[33m200\u001b[39m,\n",
       "    useSsl: \u001b[33mfalse\u001b[39m,\n",
       "    encryptionValidationMode: \u001b[32m\"CERTIFICATE_AND_HOSTNAME_VALIDATION\"\u001b[39m,\n",
       "    maxIdleConns: \u001b[33m8\u001b[39m,\n",
       "    idleTimeSec: \u001b[33m60\u001b[39m,\n",
       "    queryTimeoutSec: \u001b[33m0\u001b[39m\n",
       "  },\n",
       "  state: { status: \u001b[32m\"good\"\u001b[39m, suggestedUserAction: \u001b[32m\"\"\u001b[39m, messages: [] },\n",
       "  id: \u001b[32m\"edbdc74b-2554-4433-bba1-19410cbd4162\"\u001b[39m,\n",
       "  tag: \u001b[32m\"h0ekDOX3PnQ=\"\u001b[39m,\n",
       "  type: \u001b[32m\"POSTGRES\"\u001b[39m,\n",
       "  name: \u001b[32m\"mockdb\"\u001b[39m,\n",
       "  createdAt: \u001b[32m\"2024-09-11T12:05:04.754Z\"\u001b[39m,\n",
       "  metadataPolicy: {\n",
       "    authTTLMs: \u001b[33m86400000\u001b[39m,\n",
       "    namesRefreshMs: \u001b[33m3600000\u001b[39m,\n",
       "    datasetRefreshAfterMs: \u001b[33m3600000\u001b[39m,\n",
       "    datasetExpireAfterMs: \u001b[33m10800000\u001b[39m,\n",
       "    datasetUpdateMode: \u001b[32m\"PREFETCH_QUERIED\"\u001b[39m,\n",
       "    deleteUnavailableDatasets: \u001b[33mtrue\u001b[39m,\n",
       "    autoPromoteDatasets: \u001b[33mfalse\u001b[39m\n",
       "  },\n",
       "  accelerationGracePeriodMs: \u001b[33m0\u001b[39m,\n",
       "  accelerationRefreshPeriodMs: \u001b[33m0\u001b[39m,\n",
       "  accelerationRefreshSchedule: \u001b[32m\"0 0 8 * * ?\"\u001b[39m,\n",
       "  accelerationActivePolicyType: \u001b[32m\"PERIOD\"\u001b[39m,\n",
       "  accelerationNeverExpire: \u001b[33mfalse\u001b[39m,\n",
       "  accelerationNeverRefresh: \u001b[33mfalse\u001b[39m,\n",
       "  children: [\n",
       "    {\n",
       "      id: \u001b[32m\"e115b5cc-4afe-476f-9b5a-e8fd2992bc1e\"\u001b[39m,\n",
       "      path: [ \u001b[32m\"mockdb\"\u001b[39m, \u001b[32m\"public\"\u001b[39m ],\n",
       "      tag: \u001b[32m\"E9g9yOaeUZI=\"\u001b[39m,\n",
       "      type: \u001b[32m\"CONTAINER\"\u001b[39m,\n",
       "      containerType: \u001b[32m\"FOLDER\"\u001b[39m\n",
       "    }\n",
       "  ],\n",
       "  allowCrossSourceSelection: \u001b[33mfalse\u001b[39m,\n",
       "  disableMetadataValidityCheck: \u001b[33mfalse\u001b[39m\n",
       "}"
      ]
     },
     "execution_count": 11,
     "metadata": {},
     "output_type": "execute_result"
    }
   ],
   "source": [
    "await dremio('POST', '/catalog', {\n",
    "    entityType: 'source',\n",
    "    type: \"POSTGRES\",\n",
    "    name: \"mockdb\",\n",
    "    config: {\n",
    "        hostname: \"postgres\",\n",
    "        port: \"5432\",\n",
    "        databaseName: \"example\",\n",
    "        username: \"user\",\n",
    "        password: \"pass\",\n",
    "        authenticationType: \"MASTER\",\n",
    "        fetchSize: 200,\n",
    "        useSsl: false,\n",
    "        encryptionValidationMode: \"CERTIFICATE_AND_HOSTNAME_VALIDATION\",\n",
    "        maxIdleConns: 8,\n",
    "        idleTimeSec: 60,\n",
    "        queryTimeoutSec: 0\n",
    "    },\n",
    "})"
   ]
  },
  {
   "cell_type": "markdown",
   "metadata": {},
   "source": [
    "## Generate mock data"
   ]
  },
  {
   "cell_type": "code",
   "execution_count": 2,
   "metadata": {},
   "outputs": [],
   "source": [
    "import { TextLineStream } from \"jsr:@std/streams@0.223.0/text-line-stream\";\n",
    "const seed = 12345;\n",
    "\n",
    "// Simple seedable random number generator (Linear Congruential Generator)\n",
    "const seededRandom = (seed: number): () => number  => {\n",
    "    let value = seed % 2147483647;\n",
    "    return () => {\n",
    "        value = (value * 16807) % 2147483647;\n",
    "        return (value - 1) / 2147483646;\n",
    "    }\n",
    "}\n",
    "let rng = seededRandom(seed);\n",
    "const randomString = (chars: string, length: number): string => {\n",
    "    let result = '';\n",
    "    for (let i = 0; i < length; i++) {\n",
    "        result += chars.charAt(Math.floor(rng() * chars.length));\n",
    "    }\n",
    "    return result;\n",
    "}\n",
    "const randomLowercase = (length: number) => randomString('abcdefghijklmnopqrstuvwxyz', length)\n",
    "const randomName = (length: number) => randomString('ABCDEFGHIJKLMNOPQRSTUVWXYZ', 1) + randomLowercase(length - 1)\n",
    "const randomElement = <T>(array: T[]) : T => array[Math.floor(rng()*array.length)]\n",
    "\n",
    "\n",
    "const domains = ['gmail.com', 'cs.aau.dk', 'unipd.it', 'studenti.unipd.it', 'hotmail.com', 'example.com']\n",
    "const cities = ['Aalborg', 'Padova', 'New york', 'Roma', 'London', 'Paris', 'Venice']\n",
    "\n",
    "\n",
    "const generateMockCSV = (filePath: string, GBs : number) => {\n",
    "    const seed = 12345\n",
    "    rng = seededRandom(seed); // resets the seed\n",
    "    Deno.writeTextFileSync(filePath, 'Name,Surname,Email,Value,City\\n', { append: false });\n",
    "    \n",
    "    const rowsToGenerate = (1000 * 1000 * 16) * GBs; // Number of rows ( 1Gb = 1000*1000*16)\n",
    "    const chunkSize = 10000;        // Chunk size to control memory usage  \n",
    "    for (let chunk = 0; chunk < rowsToGenerate / chunkSize; chunk++) {\n",
    "        let data = '';\n",
    "        for (let i = 0; i < chunkSize; i++) {\n",
    "            const name = randomName(8);\n",
    "            const surname = randomName(10 + Math.floor(rng()*6));\n",
    "            const domain = randomElement(domains)\n",
    "            const email = `${name}.${surname}@${domain}`;\n",
    "            const value = Math.floor(rng() * 10000);\n",
    "            const city = randomElement(cities)\n",
    "            data += `${name},${surname},${email},${value},${city}\\n`;\n",
    "        }\n",
    "        Deno.writeTextFileSync(filePath, data, { append: true });\n",
    "    }\n",
    "    console.log(`Seeded CSV file generated at ${filePath}`);   \n",
    "}\n",
    "\n",
    "const logMatchesInsideCSV = async (filePath: string) => {\n",
    "    using f = await Deno.open(filePath);\n",
    "    const readable = f.readable\n",
    "        .pipeThrough(new TextDecoderStream()) // decode Uint8Array to string\n",
    "        .pipeThrough(new TextLineStream()) // split string line by line\n",
    "    for await (const data of readable) {\n",
    "        const line : string = data\n",
    "        if(line.startsWith('Esscqwxx,')) console.log(line)\n",
    "    }\n",
    "}\n"
   ]
  },
  {
   "cell_type": "code",
   "execution_count": 3,
   "metadata": {},
   "outputs": [
    {
     "name": "stdout",
     "output_type": "stream",
     "text": [
      "Seeded CSV file generated at ./data/csv/generated_mockdata_30GB.csv\n"
     ]
    }
   ],
   "source": [
    "await generateMockCSV('./data/csv/generated_mockdata_30GB.csv', 30)"
   ]
  },
  {
   "cell_type": "code",
   "execution_count": 7,
   "metadata": {},
   "outputs": [
    {
     "name": "stdout",
     "output_type": "stream",
     "text": [
      "Esscqwxx,Qyboirdgwujtpjq,Esscqwxx.Qyboirdgwujtpjq@cs.aau.dk,8205,Padova\n",
      "Esscqwxx,Qyboirdgwujtpjq,Esscqwxx.Qyboirdgwujtpjq@cs.aau.dk,8205,Padova\n",
      "Esscqwxx,Qyboirdgwujtpjq,Esscqwxx.Qyboirdgwujtpjq@cs.aau.dk,8205,Padova\n",
      "Esscqwxx,Qyboirdgwujtpjq,Esscqwxx.Qyboirdgwujtpjq@cs.aau.dk,8205,Padova\n",
      "Esscqwxx,Qyboirdgwujtpjq,Esscqwxx.Qyboirdgwujtpjq@cs.aau.dk,8205,Padova\n",
      "Esscqwxx,Qyboirdgwujtpjq,Esscqwxx.Qyboirdgwujtpjq@cs.aau.dk,8205,Padova\n"
     ]
    }
   ],
   "source": [
    "await logMatchesInsideCSV('./data/csv/generated_mockdata_30GB.csv')"
   ]
  },
  {
   "cell_type": "code",
   "execution_count": 4,
   "metadata": {},
   "outputs": [
    {
     "name": "stdout",
     "output_type": "stream",
     "text": [
      "Esscqwxx,Qyboirdgwujtpjq,Esscqwxx.Qyboirdgwujtpjq@cs.aau.dk,8205,Padova\n",
      "Esscqwxx,Qyboirdgwujtpjq,Esscqwxx.Qyboirdgwujtpjq@cs.aau.dk,8205,Padova\n",
      "Esscqwxx,Qyboirdgwujtpjq,Esscqwxx.Qyboirdgwujtpjq@cs.aau.dk,8205,Padova\n",
      "Esscqwxx,Qyboirdgwujtpjq,Esscqwxx.Qyboirdgwujtpjq@cs.aau.dk,8205,Padova\n",
      "Esscqwxx,Qyboirdgwujtpjq,Esscqwxx.Qyboirdgwujtpjq@cs.aau.dk,8205,Padova\n",
      "Esscqwxx,Qyboirdgwujtpjq,Esscqwxx.Qyboirdgwujtpjq@cs.aau.dk,8205,Padova\n",
      "Esscqwxx,Qyboirdgwujtpjq,Esscqwxx.Qyboirdgwujtpjq@cs.aau.dk,8205,Padova\n",
      "Esscqwxx,Qyboirdgwujtpjq,Esscqwxx.Qyboirdgwujtpjq@cs.aau.dk,8205,Padova\n",
      "Esscqwxx,Qyboirdgwujtpjq,Esscqwxx.Qyboirdgwujtpjq@cs.aau.dk,8205,Padova\n",
      "Esscqwxx,Qyboirdgwujtpjq,Esscqwxx.Qyboirdgwujtpjq@cs.aau.dk,8205,Padova\n",
      "Esscqwxx,Qyboirdgwujtpjq,Esscqwxx.Qyboirdgwujtpjq@cs.aau.dk,8205,Padova\n"
     ]
    }
   ],
   "source": [
    "await logMatchesInsideCSV('./data/csv/generated_mockdata_60GB.csv')"
   ]
  },
  {
   "cell_type": "code",
   "execution_count": 6,
   "metadata": {},
   "outputs": [
    {
     "name": "stdout",
     "output_type": "stream",
     "text": [
      "Esscqwxx,Qyboirdgwujtpjq,Esscqwxx.Qyboirdgwujtpjq@cs.aau.dk,8205,Padova\n",
      "Esscqwxx,Qyboirdgwujtpjq,Esscqwxx.Qyboirdgwujtpjq@cs.aau.dk,8205,Padova\n",
      "Esscqwxx,Qyboirdgwujtpjq,Esscqwxx.Qyboirdgwujtpjq@cs.aau.dk,8205,Padova\n",
      "Esscqwxx,Qyboirdgwujtpjq,Esscqwxx.Qyboirdgwujtpjq@cs.aau.dk,8205,Padova\n",
      "Esscqwxx,Qyboirdgwujtpjq,Esscqwxx.Qyboirdgwujtpjq@cs.aau.dk,8205,Padova\n",
      "Esscqwxx,Qyboirdgwujtpjq,Esscqwxx.Qyboirdgwujtpjq@cs.aau.dk,8205,Padova\n",
      "Esscqwxx,Qyboirdgwujtpjq,Esscqwxx.Qyboirdgwujtpjq@cs.aau.dk,8205,Padova\n",
      "Esscqwxx,Qyboirdgwujtpjq,Esscqwxx.Qyboirdgwujtpjq@cs.aau.dk,8205,Padova\n",
      "Esscqwxx,Qyboirdgwujtpjq,Esscqwxx.Qyboirdgwujtpjq@cs.aau.dk,8205,Padova\n",
      "Esscqwxx,Qyboirdgwujtpjq,Esscqwxx.Qyboirdgwujtpjq@cs.aau.dk,8205,Padova\n",
      "Esscqwxx,Qyboirdgwujtpjq,Esscqwxx.Qyboirdgwujtpjq@cs.aau.dk,8205,Padova\n",
      "Esscqwxx,Qyboirdgwujtpjq,Esscqwxx.Qyboirdgwujtpjq@cs.aau.dk,8205,Padova\n",
      "Esscqwxx,Qyboirdgwujtpjq,Esscqwxx.Qyboirdgwujtpjq@cs.aau.dk,8205,Padova\n",
      "Esscqwxx,Qyboirdgwujtpjq,Esscqwxx.Qyboirdgwujtpjq@cs.aau.dk,8205,Padova\n",
      "Esscqwxx,Qyboirdgwujtpjq,Esscqwxx.Qyboirdgwujtpjq@cs.aau.dk,8205,Padova\n",
      "Esscqwxx,Qyboirdgwujtpjq,Esscqwxx.Qyboirdgwujtpjq@cs.aau.dk,8205,Padova\n",
      "Esscqwxx,Qyboirdgwujtpjq,Esscqwxx.Qyboirdgwujtpjq@cs.aau.dk,8205,Padova\n",
      "Esscqwxx,Qyboirdgwujtpjq,Esscqwxx.Qyboirdgwujtpjq@cs.aau.dk,8205,Padova\n",
      "Esscqwxx,Qyboirdgwujtpjq,Esscqwxx.Qyboirdgwujtpjq@cs.aau.dk,8205,Padova\n",
      "Esscqwxx,Qyboirdgwujtpjq,Esscqwxx.Qyboirdgwujtpjq@cs.aau.dk,8205,Padova\n",
      "Esscqwxx,Qyboirdgwujtpjq,Esscqwxx.Qyboirdgwujtpjq@cs.aau.dk,8205,Padova\n",
      "Esscqwxx,Qyboirdgwujtpjq,Esscqwxx.Qyboirdgwujtpjq@cs.aau.dk,8205,Padova\n"
     ]
    }
   ],
   "source": [
    "await logMatchesInsideCSV('./data/csv/generated_mockdata_60GB.csv')"
   ]
  }
 ],
 "metadata": {
  "kernelspec": {
   "display_name": "Deno",
   "language": "typescript",
   "name": "deno"
  },
  "language_info": {
   "codemirror_mode": "typescript",
   "file_extension": ".ts",
   "mimetype": "text/x.typescript",
   "name": "typescript",
   "nbconvert_exporter": "script",
   "pygments_lexer": "typescript",
   "version": "5.5.2"
  }
 },
 "nbformat": 4,
 "nbformat_minor": 2
}
