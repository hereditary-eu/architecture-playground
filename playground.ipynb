{
 "cells": [
  {
   "cell_type": "markdown",
   "metadata": {},
   "source": [
    "# HEREDITARY Architecture Playground\n"
   ]
  },
  {
   "cell_type": "markdown",
   "metadata": {},
   "source": [
    "**NOTE**: this notebook is written in JavaScript, so you need Jupyter + a JavaScript interpreter to run it. You may use the Deno interpreter, which is powerful and comes with a prebuild support for notebooks\n",
    "```bash\n",
    "curl -fsSL https://deno.land/install.sh | sh  # Install Deno\n",
    "\"$HOME/.deno/bin/deno\" jupyter --install      # Add Deno to Jupyter\n",
    "```\n",
    "now just restart VSCode/Jupyter and you should see Deno amongst the kernels"
   ]
  },
  {
   "cell_type": "code",
   "execution_count": 8,
   "metadata": {},
   "outputs": [
    {
     "name": "stdout",
     "output_type": "stream",
     "text": [
      "hello world!\n"
     ]
    }
   ],
   "source": [
    "const hello = \"hello world!\"\n",
    "console.log(hello)"
   ]
  },
  {
   "cell_type": "markdown",
   "metadata": {},
   "source": [
    "## Dremio API Playground\n",
    "\n",
    "<https://docs.dremio.com/cloud/reference/api/>"
   ]
  },
  {
   "cell_type": "code",
   "execution_count": 1,
   "metadata": {},
   "outputs": [
    {
     "name": "stdout",
     "output_type": "stream",
     "text": [
      "User alredy there, no need to create a new one\n",
      "Auth token: cklb0qhftbp2o24kgop5vm6532 \n",
      "Expires at: 16:44:47 (30hours)\n"
     ]
    }
   ],
   "source": [
    "const hostname = \"http://localhost:9047\";\n",
    "const endpoint = `${hostname}/api/v3`;\n",
    "const userName = 'dremioUser'\n",
    "const password = 'dremioPass'\n",
    "\n",
    "const post = async (url: string, data: Record<string, unknown>) => {\n",
    "    const response = await fetch(url, {\n",
    "        method: \"POST\",\n",
    "        headers: {\n",
    "        \"Content-Type\": \"application/json\",\n",
    "        },\n",
    "        body: JSON.stringify(data),\n",
    "    });\n",
    "\n",
    "    if (!response.ok) throw new Error(`HTTP error! status: ${response.status}`);  \n",
    "    return response.json();\n",
    "}\n",
    "\n",
    "\n",
    "// create first user if none\n",
    "const firstName = 'admin'\n",
    "const lastName = ''\n",
    "const email = 'luca.fabbian.1999@gmail.com'\n",
    "const createdAt = Date.now()\n",
    "const response = await fetch(`${hostname}/apiv2/bootstrap/firstuser`, {\n",
    "    method: \"PUT\",\n",
    "    headers: {\n",
    "      \"Authorization\": '_dremionull',\n",
    "      \"Content-Type\": \"application/json\",\n",
    "    },\n",
    "    body: JSON.stringify({userName, password, firstName, lastName, email, createdAt}),\n",
    "});\n",
    "\n",
    "if (!response.ok ){\n",
    "  if(response.status !== 400) throw new Error(`Unexpected HTTP error! status: ${response.status}`);\n",
    "  console.log(\"User alredy there, no need to create a new one\")\n",
    "}else{\n",
    "  console.log(\"New user created\", await response.json())\n",
    "}\n",
    "\n",
    "\n",
    "// get auth token\n",
    "const {token, expires } = await post(`${hostname}/apiv2/login`, { userName, password })\n",
    "console.log('Auth token:', token, '\\nExpires at:', (new Date(expires)).toLocaleTimeString('en-GB'), '(30hours)')\n",
    "\n",
    "// helper function to make dremio api calls\n",
    "const dremio = async(method: 'GET'|'POST', url: string, data: Record<string, unknown>)  => {\n",
    "    const response = await fetch(`${endpoint}${url}`, {\n",
    "        method,\n",
    "        headers: {\n",
    "            'Authorization': `Bearer ${token}`,\n",
    "            \"Content-Type\": \"application/json\",\n",
    "        },\n",
    "        body: JSON.stringify(data),\n",
    "    });\n",
    "\n",
    "    if (!response.ok) throw new Error(`HTTP error! status: ${response.status}`);  \n",
    "    return response.json();\n",
    "}"
   ]
  },
  {
   "cell_type": "code",
   "execution_count": 17,
   "metadata": {},
   "outputs": [
    {
     "data": {
      "text/plain": [
       "{\n",
       "  entityType: \u001b[32m\"source\"\u001b[39m,\n",
       "  config: {\n",
       "    path: \u001b[32m\"/csv\"\u001b[39m,\n",
       "    defaultCtasFormat: \u001b[32m\"ICEBERG\"\u001b[39m,\n",
       "    isPartitionInferenceEnabled: \u001b[33mfalse\u001b[39m\n",
       "  },\n",
       "  state: { status: \u001b[32m\"good\"\u001b[39m, suggestedUserAction: \u001b[32m\"\"\u001b[39m, messages: [] },\n",
       "  id: \u001b[32m\"e3dcfd81-19cd-4957-bd5c-ad7f87723a1a\"\u001b[39m,\n",
       "  tag: \u001b[32m\"/QhfsScTZGU=\"\u001b[39m,\n",
       "  type: \u001b[32m\"NAS\"\u001b[39m,\n",
       "  name: \u001b[32m\"mockcsv\"\u001b[39m,\n",
       "  createdAt: \u001b[32m\"1970-01-01T00:00:00.000Z\"\u001b[39m,\n",
       "  metadataPolicy: {\n",
       "    authTTLMs: \u001b[33m86400000\u001b[39m,\n",
       "    namesRefreshMs: \u001b[33m3600000\u001b[39m,\n",
       "    datasetRefreshAfterMs: \u001b[33m3600000\u001b[39m,\n",
       "    datasetExpireAfterMs: \u001b[33m10800000\u001b[39m,\n",
       "    datasetUpdateMode: \u001b[32m\"PREFETCH_QUERIED\"\u001b[39m,\n",
       "    deleteUnavailableDatasets: \u001b[33mtrue\u001b[39m,\n",
       "    autoPromoteDatasets: \u001b[33mfalse\u001b[39m\n",
       "  },\n",
       "  accelerationGracePeriodMs: \u001b[33m10800000\u001b[39m,\n",
       "  accelerationRefreshPeriodMs: \u001b[33m3600000\u001b[39m,\n",
       "  accelerationRefreshSchedule: \u001b[32m\"0 0 8 * * *\"\u001b[39m,\n",
       "  accelerationActivePolicyType: \u001b[32m\"PERIOD\"\u001b[39m,\n",
       "  accelerationNeverExpire: \u001b[33mfalse\u001b[39m,\n",
       "  accelerationNeverRefresh: \u001b[33mfalse\u001b[39m,\n",
       "  children: [\n",
       "    {\n",
       "      id: \u001b[32m\"dremio:/mockcsv/email.csv\"\u001b[39m,\n",
       "      path: [ \u001b[32m\"mockcsv\"\u001b[39m, \u001b[32m\"email.csv\"\u001b[39m ],\n",
       "      type: \u001b[32m\"FILE\"\u001b[39m\n",
       "    },\n",
       "    {\n",
       "      id: \u001b[32m\"315e799c-f634-4f1b-a52d-c439d073990f\"\u001b[39m,\n",
       "      path: [ \u001b[32m\"mockcsv\"\u001b[39m, \u001b[32m\"cities.csv\"\u001b[39m ],\n",
       "      type: \u001b[32m\"DATASET\"\u001b[39m,\n",
       "      datasetType: \u001b[32m\"PROMOTED\"\u001b[39m\n",
       "    },\n",
       "    {\n",
       "      id: \u001b[32m\"dremio:/mockcsv/username-password-recovery-code.csv\"\u001b[39m,\n",
       "      path: [ \u001b[32m\"mockcsv\"\u001b[39m, \u001b[32m\"username-password-recovery-code.csv\"\u001b[39m ],\n",
       "      type: \u001b[32m\"FILE\"\u001b[39m\n",
       "    }\n",
       "  ],\n",
       "  allowCrossSourceSelection: \u001b[33mfalse\u001b[39m,\n",
       "  disableMetadataValidityCheck: \u001b[33mfalse\u001b[39m\n",
       "}"
      ]
     },
     "execution_count": 17,
     "metadata": {},
     "output_type": "execute_result"
    }
   ],
   "source": [
    "// inspect source(s)\n",
    "await dremio('GET', '/catalog/e3dcfd81-19cd-4957-bd5c-ad7f87723a1a')"
   ]
  },
  {
   "cell_type": "code",
   "execution_count": 11,
   "metadata": {},
   "outputs": [
    {
     "data": {
      "text/plain": [
       "{\n",
       "  entityType: \u001b[32m\"source\"\u001b[39m,\n",
       "  config: {\n",
       "    hostname: \u001b[32m\"db\"\u001b[39m,\n",
       "    port: \u001b[32m\"5432\"\u001b[39m,\n",
       "    databaseName: \u001b[32m\"example\"\u001b[39m,\n",
       "    username: \u001b[32m\"user\"\u001b[39m,\n",
       "    password: \u001b[32m\"$DREMIO_EXISTING_VALUE$\"\u001b[39m,\n",
       "    authenticationType: \u001b[32m\"MASTER\"\u001b[39m,\n",
       "    fetchSize: \u001b[33m200\u001b[39m,\n",
       "    useSsl: \u001b[33mfalse\u001b[39m,\n",
       "    encryptionValidationMode: \u001b[32m\"CERTIFICATE_AND_HOSTNAME_VALIDATION\"\u001b[39m,\n",
       "    maxIdleConns: \u001b[33m8\u001b[39m,\n",
       "    idleTimeSec: \u001b[33m60\u001b[39m,\n",
       "    queryTimeoutSec: \u001b[33m0\u001b[39m\n",
       "  },\n",
       "  state: { status: \u001b[32m\"good\"\u001b[39m, suggestedUserAction: \u001b[32m\"\"\u001b[39m, messages: [] },\n",
       "  id: \u001b[32m\"b36862a4-7cb6-4863-85fb-9e42e81904e2\"\u001b[39m,\n",
       "  tag: \u001b[32m\"owPh6USGxjE=\"\u001b[39m,\n",
       "  type: \u001b[32m\"POSTGRES\"\u001b[39m,\n",
       "  name: \u001b[32m\"mockdb2\"\u001b[39m,\n",
       "  createdAt: \u001b[32m\"2024-09-04T09:00:24.756Z\"\u001b[39m,\n",
       "  metadataPolicy: {\n",
       "    authTTLMs: \u001b[33m86400000\u001b[39m,\n",
       "    namesRefreshMs: \u001b[33m3600000\u001b[39m,\n",
       "    datasetRefreshAfterMs: \u001b[33m3600000\u001b[39m,\n",
       "    datasetExpireAfterMs: \u001b[33m10800000\u001b[39m,\n",
       "    datasetUpdateMode: \u001b[32m\"PREFETCH_QUERIED\"\u001b[39m,\n",
       "    deleteUnavailableDatasets: \u001b[33mtrue\u001b[39m,\n",
       "    autoPromoteDatasets: \u001b[33mfalse\u001b[39m\n",
       "  },\n",
       "  accelerationGracePeriodMs: \u001b[33m0\u001b[39m,\n",
       "  accelerationRefreshPeriodMs: \u001b[33m0\u001b[39m,\n",
       "  accelerationRefreshSchedule: \u001b[32m\"0 0 8 * * ?\"\u001b[39m,\n",
       "  accelerationActivePolicyType: \u001b[32m\"PERIOD\"\u001b[39m,\n",
       "  accelerationNeverExpire: \u001b[33mfalse\u001b[39m,\n",
       "  accelerationNeverRefresh: \u001b[33mfalse\u001b[39m,\n",
       "  children: [\n",
       "    {\n",
       "      id: \u001b[32m\"189d0e47-cdb5-41f6-a987-c031dc8ab450\"\u001b[39m,\n",
       "      path: [ \u001b[32m\"mockdb2\"\u001b[39m, \u001b[32m\"public\"\u001b[39m ],\n",
       "      tag: \u001b[32m\"KHZ4PKDwj64=\"\u001b[39m,\n",
       "      type: \u001b[32m\"CONTAINER\"\u001b[39m,\n",
       "      containerType: \u001b[32m\"FOLDER\"\u001b[39m\n",
       "    }\n",
       "  ],\n",
       "  allowCrossSourceSelection: \u001b[33mfalse\u001b[39m,\n",
       "  disableMetadataValidityCheck: \u001b[33mfalse\u001b[39m\n",
       "}"
      ]
     },
     "execution_count": 11,
     "metadata": {},
     "output_type": "execute_result"
    }
   ],
   "source": [
    "await dremio('POST', '/catalog', {\n",
    "    entityType: 'source',\n",
    "    type: \"POSTGRES\",\n",
    "    name: \"mockdb\",\n",
    "    config: {\n",
    "        path: \"/csv\",\n",
    "        defaultCtasFormat: \"ICEBERG\",\n",
    "        isPartitionInferenceEnabled: false,\n",
    "    },\n",
    "})"
   ]
  },
  {
   "cell_type": "code",
   "execution_count": null,
   "metadata": {},
   "outputs": [],
   "source": [
    "await dremio('POST', '/catalog', {\n",
    "    entityType: 'source',\n",
    "    type: \"POSTGRES\",\n",
    "    name: \"mockdb\",\n",
    "    config: {\n",
    "        hostname: \"db\",\n",
    "        port: \"5432\",\n",
    "        databaseName: \"example\",\n",
    "        username: \"user\",\n",
    "        password: \"pass\",\n",
    "        authenticationType: \"MASTER\",\n",
    "        fetchSize: 200,\n",
    "        useSsl: false,\n",
    "        encryptionValidationMode: \"CERTIFICATE_AND_HOSTNAME_VALIDATION\",\n",
    "        maxIdleConns: 8,\n",
    "        idleTimeSec: 60,\n",
    "        queryTimeoutSec: 0\n",
    "    },\n",
    "})"
   ]
  },
  {
   "cell_type": "markdown",
   "metadata": {},
   "source": [
    "## Generate mock data"
   ]
  },
  {
   "cell_type": "code",
   "execution_count": 2,
   "metadata": {},
   "outputs": [],
   "source": [
    "const seed = 12345;\n",
    "\n",
    "// Simple seedable random number generator (Linear Congruential Generator)\n",
    "const seededRandom = (seed: number): () => number  => {\n",
    "    let value = seed % 2147483647;\n",
    "    return () => {\n",
    "        value = (value * 16807) % 2147483647;\n",
    "        return (value - 1) / 2147483646;\n",
    "    }\n",
    "}\n",
    "let rng = seededRandom(seed);\n",
    "const randomString = (chars: string, length: number): string => {\n",
    "    let result = '';\n",
    "    for (let i = 0; i < length; i++) {\n",
    "        result += chars.charAt(Math.floor(rng() * chars.length));\n",
    "    }\n",
    "    return result;\n",
    "}\n",
    "const randomLowercase = (length: number) => randomString('abcdefghijklmnopqrstuvwxyz', length)\n",
    "const randomName = (length: number) => randomString('ABCDEFGHIJKLMNOPQRSTUVWXYZ', 1) + randomLowercase(length - 1)\n",
    "const randomElement = <T>(array: T[]) : T => array[Math.floor(rng()*array.length)]\n",
    "\n",
    "\n",
    "const domains = ['gmail.com', 'cs.aau.dk', 'unipd.it', 'studenti.unipd.it', 'hotmail.com', 'example.com']\n",
    "const cities = ['Aalborg', 'Padova', 'New york', 'Roma', 'London', 'Paris', 'Venice']\n"
   ]
  },
  {
   "cell_type": "code",
   "execution_count": 1,
   "metadata": {},
   "outputs": [
    {
     "ename": "ReferenceError",
     "evalue": "seededRandom is not defined",
     "output_type": "error",
     "traceback": [
      "Stack trace:",
      "ReferenceError: seededRandom is not defined",
      "    at <anonymous>:3:1"
     ]
    }
   ],
   "source": [
    "const filePath = './generated_mockdata.csv';\n",
    "const seed = 12345\n",
    "rng = seededRandom(seed); // resets the seed\n",
    "Deno.writeTextFileSync(filePath, 'Name,Surname,Email,Value,City\\n', { append: false });\n",
    "\n",
    "const rowsToGenerate = (1000 * 1000 * 16) * 120; // Number of rows ( 1Gb = 1000*1000*16)\n",
    "const chunkSize = 10000;        // Chunk size to control memory usage\n",
    "\n",
    "for (let chunk = 0; chunk < rowsToGenerate / chunkSize; chunk++) {\n",
    "    let data = '';\n",
    "    for (let i = 0; i < chunkSize; i++) {\n",
    "        const name = randomName(8);\n",
    "        const surname = randomName(10 + Math.floor(rng()*6));\n",
    "        const domain = randomElement(domains)\n",
    "        const email = `${name}.${surname}@${domain}`;\n",
    "        const value = Math.floor(rng() * 10000);\n",
    "        const city = randomElement(cities)\n",
    "        data += `${name},${surname},${email},${value},${city}\\n`;\n",
    "    }\n",
    "    Deno.writeTextFileSync(filePath, data, { append: true });\n",
    "}\n",
    "\n",
    "console.log(`Seeded CSV file generated at ${filePath}`);\n"
   ]
  },
  {
   "cell_type": "code",
   "execution_count": 3,
   "metadata": {},
   "outputs": [],
   "source": [
    "import { TextLineStream } from \"jsr:@std/streams@0.223.0/text-line-stream\";\n",
    "\n",
    "\n",
    "const logMatches = async (filename: string) => {\n",
    "    using f = await Deno.open(filename);\n",
    "    const readable = f.readable\n",
    "        .pipeThrough(new TextDecoderStream()) // decode Uint8Array to string\n",
    "        .pipeThrough(new TextLineStream()) // split string line by line\n",
    "\n",
    "\n",
    "    for await (const data of readable) {\n",
    "        const line : string = data\n",
    "        if(line.startsWith('Esscqwxx,')) console.log(line)\n",
    "    }\n",
    "}"
   ]
  },
  {
   "cell_type": "code",
   "execution_count": 5,
   "metadata": {},
   "outputs": [],
   "source": [
    "await logMatches('./mockdata/csv/generated_mockdata_30GB.csv')"
   ]
  },
  {
   "cell_type": "code",
   "execution_count": 4,
   "metadata": {},
   "outputs": [
    {
     "name": "stdout",
     "output_type": "stream",
     "text": [
      "Esscqwxx,Qyboirdgwujtpjq,Esscqwxx.Qyboirdgwujtpjq@cs.aau.dk,8205,Padova\n",
      "Esscqwxx,Qyboirdgwujtpjq,Esscqwxx.Qyboirdgwujtpjq@cs.aau.dk,8205,Padova\n",
      "Esscqwxx,Qyboirdgwujtpjq,Esscqwxx.Qyboirdgwujtpjq@cs.aau.dk,8205,Padova\n",
      "Esscqwxx,Qyboirdgwujtpjq,Esscqwxx.Qyboirdgwujtpjq@cs.aau.dk,8205,Padova\n",
      "Esscqwxx,Qyboirdgwujtpjq,Esscqwxx.Qyboirdgwujtpjq@cs.aau.dk,8205,Padova\n",
      "Esscqwxx,Qyboirdgwujtpjq,Esscqwxx.Qyboirdgwujtpjq@cs.aau.dk,8205,Padova\n",
      "Esscqwxx,Qyboirdgwujtpjq,Esscqwxx.Qyboirdgwujtpjq@cs.aau.dk,8205,Padova\n",
      "Esscqwxx,Qyboirdgwujtpjq,Esscqwxx.Qyboirdgwujtpjq@cs.aau.dk,8205,Padova\n",
      "Esscqwxx,Qyboirdgwujtpjq,Esscqwxx.Qyboirdgwujtpjq@cs.aau.dk,8205,Padova\n",
      "Esscqwxx,Qyboirdgwujtpjq,Esscqwxx.Qyboirdgwujtpjq@cs.aau.dk,8205,Padova\n",
      "Esscqwxx,Qyboirdgwujtpjq,Esscqwxx.Qyboirdgwujtpjq@cs.aau.dk,8205,Padova\n"
     ]
    }
   ],
   "source": [
    "logMatches('./mockdata/csv/generated_mockdata_60GB.csv')"
   ]
  },
  {
   "cell_type": "code",
   "execution_count": 6,
   "metadata": {},
   "outputs": [
    {
     "name": "stdout",
     "output_type": "stream",
     "text": [
      "Esscqwxx,Qyboirdgwujtpjq,Esscqwxx.Qyboirdgwujtpjq@cs.aau.dk,8205,Padova\n",
      "Esscqwxx,Qyboirdgwujtpjq,Esscqwxx.Qyboirdgwujtpjq@cs.aau.dk,8205,Padova\n",
      "Esscqwxx,Qyboirdgwujtpjq,Esscqwxx.Qyboirdgwujtpjq@cs.aau.dk,8205,Padova\n",
      "Esscqwxx,Qyboirdgwujtpjq,Esscqwxx.Qyboirdgwujtpjq@cs.aau.dk,8205,Padova\n",
      "Esscqwxx,Qyboirdgwujtpjq,Esscqwxx.Qyboirdgwujtpjq@cs.aau.dk,8205,Padova\n",
      "Esscqwxx,Qyboirdgwujtpjq,Esscqwxx.Qyboirdgwujtpjq@cs.aau.dk,8205,Padova\n",
      "Esscqwxx,Qyboirdgwujtpjq,Esscqwxx.Qyboirdgwujtpjq@cs.aau.dk,8205,Padova\n",
      "Esscqwxx,Qyboirdgwujtpjq,Esscqwxx.Qyboirdgwujtpjq@cs.aau.dk,8205,Padova\n",
      "Esscqwxx,Qyboirdgwujtpjq,Esscqwxx.Qyboirdgwujtpjq@cs.aau.dk,8205,Padova\n",
      "Esscqwxx,Qyboirdgwujtpjq,Esscqwxx.Qyboirdgwujtpjq@cs.aau.dk,8205,Padova\n",
      "Esscqwxx,Qyboirdgwujtpjq,Esscqwxx.Qyboirdgwujtpjq@cs.aau.dk,8205,Padova\n",
      "Esscqwxx,Qyboirdgwujtpjq,Esscqwxx.Qyboirdgwujtpjq@cs.aau.dk,8205,Padova\n",
      "Esscqwxx,Qyboirdgwujtpjq,Esscqwxx.Qyboirdgwujtpjq@cs.aau.dk,8205,Padova\n",
      "Esscqwxx,Qyboirdgwujtpjq,Esscqwxx.Qyboirdgwujtpjq@cs.aau.dk,8205,Padova\n",
      "Esscqwxx,Qyboirdgwujtpjq,Esscqwxx.Qyboirdgwujtpjq@cs.aau.dk,8205,Padova\n",
      "Esscqwxx,Qyboirdgwujtpjq,Esscqwxx.Qyboirdgwujtpjq@cs.aau.dk,8205,Padova\n",
      "Esscqwxx,Qyboirdgwujtpjq,Esscqwxx.Qyboirdgwujtpjq@cs.aau.dk,8205,Padova\n",
      "Esscqwxx,Qyboirdgwujtpjq,Esscqwxx.Qyboirdgwujtpjq@cs.aau.dk,8205,Padova\n",
      "Esscqwxx,Qyboirdgwujtpjq,Esscqwxx.Qyboirdgwujtpjq@cs.aau.dk,8205,Padova\n",
      "Esscqwxx,Qyboirdgwujtpjq,Esscqwxx.Qyboirdgwujtpjq@cs.aau.dk,8205,Padova\n",
      "Esscqwxx,Qyboirdgwujtpjq,Esscqwxx.Qyboirdgwujtpjq@cs.aau.dk,8205,Padova\n",
      "Esscqwxx,Qyboirdgwujtpjq,Esscqwxx.Qyboirdgwujtpjq@cs.aau.dk,8205,Padova\n"
     ]
    }
   ],
   "source": [
    "import { TextLineStream } from \"jsr:@std/streams@0.223.0/text-line-stream\";\n",
    "using f = await Deno.open('./generated_mockdata.csv');\n",
    "const readable = f.readable\n",
    "  .pipeThrough(new TextDecoderStream()) // decode Uint8Array to string\n",
    "  .pipeThrough(new TextLineStream()) // split string line by line\n",
    "\n",
    "\n",
    "for await (const data of readable) {\n",
    "    const line : string = data\n",
    "    if(line.startsWith('Esscqwxx,')) console.log(line)\n",
    "}"
   ]
  }
 ],
 "metadata": {
  "kernelspec": {
   "display_name": "Deno",
   "language": "typescript",
   "name": "deno"
  },
  "language_info": {
   "codemirror_mode": "typescript",
   "file_extension": ".ts",
   "mimetype": "text/x.typescript",
   "name": "typescript",
   "nbconvert_exporter": "script",
   "pygments_lexer": "typescript",
   "version": "5.5.2"
  }
 },
 "nbformat": 4,
 "nbformat_minor": 2
}
