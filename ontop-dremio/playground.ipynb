{
 "cells": [
  {
   "cell_type": "markdown",
   "metadata": {},
   "source": [
    "# ONTOP-Dremio Playground\n"
   ]
  },
  {
   "cell_type": "markdown",
   "metadata": {},
   "source": [
    "**NOTE**: this notebook is written in JavaScript, so you need Jupyter + a JavaScript interpreter to run it. You may use the Deno interpreter, which is powerful and comes with a prebuild support for notebooks\n",
    "```bash\n",
    "curl -fsSL https://deno.land/install.sh | sh  # Install Deno\n",
    "\"$HOME/.deno/bin/deno\" jupyter --install      # Add Deno to Jupyter\n",
    "```\n",
    "now just restart VSCode/Jupyter and you should see Deno amongst the kernels"
   ]
  },
  {
   "cell_type": "code",
   "execution_count": 1,
   "metadata": {},
   "outputs": [
    {
     "name": "stdout",
     "output_type": "stream",
     "text": [
      "hello world!\n"
     ]
    }
   ],
   "source": [
    "const hello = \"hello world!\"\n",
    "console.log(hello)"
   ]
  },
  {
   "cell_type": "code",
   "execution_count": 3,
   "metadata": {},
   "outputs": [
    {
     "name": "stdout",
     "output_type": "stream",
     "text": [
      "Docker Compose started successfully!\n",
      "\n"
     ]
    }
   ],
   "source": [
    "// start docker compose if not already\n",
    "const cmd = new Deno.Command(\"docker\", { args: [\"compose\", \"up\", \"-d\"], stdout: \"piped\", stderr: \"piped\",}); \n",
    "const { success, stdout, stderr } = await cmd.output();\n",
    "if (success) {\n",
    "  console.log(\"Docker Compose started successfully!\");\n",
    "  console.log(new TextDecoder().decode(stdout));\n",
    "} else {\n",
    "  console.error(new TextDecoder().decode(stderr));\n",
    "}"
   ]
  },
  {
   "cell_type": "markdown",
   "metadata": {},
   "source": [
    "## Setup"
   ]
  },
  {
   "cell_type": "code",
   "execution_count": 1,
   "metadata": {},
   "outputs": [
    {
     "name": "stdout",
     "output_type": "stream",
     "text": [
      "User alredy there, no need to create a new one\n",
      "Auth token: ouarat9p9bge01fvknmr4u3s1i - expires at: 17:10:14 (30hours)\n",
      "Postgres sources already there - status 409\n",
      "\n",
      "Tables: [ { table_name: \"patients\" }, { table_name: \"blood_tests\" } ]\n",
      "{\n",
      "  data: [\n",
      "    {\n",
      "      id: \"b98fb98d-325b-4ced-81a1-746c89f51191\",\n",
      "      path: [ \"@dremioUser\" ],\n",
      "      tag: \"0f0G7zHl6lk=\",\n",
      "      type: \"CONTAINER\",\n",
      "      containerType: \"HOME\",\n",
      "      createdAt: \"2024-09-11T13:56:49.132Z\"\n",
      "    },\n",
      "    {\n",
      "      id: \"c65e9f19-d8af-4a2c-ad3e-87164200707e\",\n",
      "      path: [ \"postgres1\" ],\n",
      "      tag: \"6QQBPYG6DLo=\",\n",
      "      type: \"CONTAINER\",\n",
      "      containerType: \"SOURCE\",\n",
      "      createdAt: \"2024-09-11T14:07:50.368Z\"\n",
      "    },\n",
      "    {\n",
      "      id: \"952856e4-5ec2-4ead-8549-14059216eb7b\",\n",
      "      path: [ \"postgres2\" ],\n",
      "      tag: \"p0GWIRcPKDM=\",\n",
      "      type: \"CONTAINER\",\n",
      "      containerType: \"SOURCE\",\n",
      "      createdAt: \"2024-09-11T14:08:06.867Z\"\n",
      "    },\n",
      "    {\n",
      "      id: \"ee9cf94e-7850-40d3-9d1c-377711d061ca\",\n",
      "      path: [ \"postgres3\" ],\n",
      "      tag: \"UiPeuTniMNQ=\",\n",
      "      type: \"CONTAINER\",\n",
      "      containerType: \"SOURCE\",\n",
      "      createdAt: \"2024-09-11T14:08:06.934Z\"\n",
      "    }\n",
      "  ]\n",
      "}\n"
     ]
    }
   ],
   "source": [
    "import * as u from '../utils/index.ts'\n",
    "\n",
    "// Connect to postgres\n",
    "const pg1 = await u.pgCreateClient(5531)\n",
    "const pg2 = await u.pgCreateClient(5532)\n",
    "const pg3 = await u.pgCreateClient(5533)\n",
    "\n",
    "// Connect to dremio and add postgres sources if not already there\n",
    "const drm = await u.drmCreateClient()\n",
    "try {\n",
    "  await Promise.all([\n",
    "    u.drmSetupPostgres(drm,\"postgres1\", \"postgres1\"),\n",
    "    u.drmSetupPostgres(drm, \"postgres2\", \"postgres2\"),\n",
    "    u.drmSetupPostgres(drm, \"postgres3\", \"postgres3\"),\n",
    "  ]);\n",
    "}catch(e){\n",
    "  if(e.httpStatus === 409) console.log(\"Postgres sources already there - status 409\")\n",
    "  else throw e\n",
    "}\n",
    "\n",
    "\n",
    "// Check if everything is up\n",
    "console.log('')\n",
    "await u.pgLogTables(pg1)\n",
    "console.log(await u.drmApi(drm, 'GET', '/catalog'))"
   ]
  },
  {
   "cell_type": "code",
   "execution_count": 5,
   "metadata": {},
   "outputs": [
    {
     "name": "stdout",
     "output_type": "stream",
     "text": [
      "sub\n",
      "http://example.org/patients2/4\n",
      "http://example.org/patients2/3\n",
      "http://example.org/patients2/7\n",
      "http://example.org/patients2/8\n",
      "http://example.org/patients2/1\n",
      "http://example.org/patients2/5\n",
      "http://example.org/patients2/10\n",
      "http://example.org/patients2/6\n",
      "http://example.org/patients2/2\n",
      "http://example.org/patients2/9\n",
      "\n"
     ]
    }
   ],
   "source": [
    "u.settings.debug = false\n",
    "\n",
    "await u.pgClear(pg1, pg2, pg3)\n",
    "await u.pgLoadSQLData(pg1, './data/postgres/hospital.sql')\n",
    "await u.pgLoadSQLData(pg2, './data/postgres/hospital.sql')\n",
    "\n",
    "console.log(await u.ontopRunQuery({}, `\n",
    "    PREFIX rdf: <http://www.w3.org/1999/02/22-rdf-syntax-ns#>\n",
    "    PREFIX rdfs: <http://www.w3.org/2000/01/rdf-schema#>\n",
    "    PREFIX : <http://example.org/> \n",
    "\n",
    "    SELECT * WHERE {\n",
    "      ?sub a :Patient.\n",
    "    } \n",
    "  \n",
    "    `))\n",
    "    "
   ]
  }
 ],
 "metadata": {
  "kernelspec": {
   "display_name": "Deno",
   "language": "typescript",
   "name": "deno"
  },
  "language_info": {
   "codemirror_mode": "typescript",
   "file_extension": ".ts",
   "mimetype": "text/x.typescript",
   "name": "typescript",
   "nbconvert_exporter": "script",
   "pygments_lexer": "typescript",
   "version": "5.5.2"
  }
 },
 "nbformat": 4,
 "nbformat_minor": 2
}
