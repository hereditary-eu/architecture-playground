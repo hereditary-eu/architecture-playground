{
 "cells": [
  {
   "cell_type": "markdown",
   "metadata": {},
   "source": [
    "# ONTOP-Dremio Playground\n"
   ]
  },
  {
   "cell_type": "markdown",
   "metadata": {},
   "source": [
    "**NOTE**: this notebook is written in JavaScript, so you need Jupyter + a JavaScript interpreter to run it. You may use the Deno interpreter, which is powerful and comes with a prebuild support for notebooks\n",
    "```bash\n",
    "curl -fsSL https://deno.land/install.sh | sh  # Install Deno\n",
    "\"$HOME/.deno/bin/deno\" jupyter --install      # Add Deno to Jupyter\n",
    "```\n",
    "now just restart VSCode/Jupyter and you should see Deno amongst the kernels"
   ]
  },
  {
   "cell_type": "code",
   "execution_count": 1,
   "metadata": {},
   "outputs": [
    {
     "name": "stdout",
     "output_type": "stream",
     "text": [
      "hello world!\n"
     ]
    }
   ],
   "source": [
    "const hello = \"hello world!\"\n",
    "console.log(hello)"
   ]
  },
  {
   "cell_type": "code",
   "execution_count": 5,
   "metadata": {},
   "outputs": [
    {
     "name": "stdout",
     "output_type": "stream",
     "text": [
      "Docker Compose started successfully!\n",
      "\n"
     ]
    }
   ],
   "source": [
    "// start docker compose if not already\n",
    "const cmd = new Deno.Command(\"docker\", { args: [\"compose\", \"up\", \"-d\"], stdout: \"piped\", stderr: \"piped\",}); \n",
    "const { success, stdout, stderr } = await cmd.output();\n",
    "if (success) {\n",
    "  console.log(\"Docker Compose started successfully!\");\n",
    "  console.log(new TextDecoder().decode(stdout));\n",
    "} else {\n",
    "  console.error(new TextDecoder().decode(stderr));\n",
    "}"
   ]
  },
  {
   "cell_type": "markdown",
   "metadata": {},
   "source": [
    "## Setup"
   ]
  },
  {
   "cell_type": "code",
   "execution_count": 7,
   "metadata": {},
   "outputs": [
    {
     "name": "stdout",
     "output_type": "stream",
     "text": [
      "User alredy there, no need to create a new one\n",
      "Auth token: nlbjpqi7ovn15f86gtgmkafq1n - expires at: 17:46:38 (30hours)\n",
      "Postgres sources already there - status 409\n",
      "\n",
      "Tables: []\n",
      "{\n",
      "  data: [\n",
      "    {\n",
      "      id: \"b7880582-c5c3-4be1-8fa5-0a275d83eb34\",\n",
      "      path: [ \"@dremioUser\" ],\n",
      "      tag: \"HE9xZ0EkRJc=\",\n",
      "      type: \"CONTAINER\",\n",
      "      containerType: \"HOME\",\n",
      "      createdAt: \"2024-09-13T09:46:26.944Z\"\n",
      "    },\n",
      "    {\n",
      "      id: \"0db052db-7a21-4e3e-ab9f-656abeae49fe\",\n",
      "      path: [ \"postgres1\" ],\n",
      "      tag: \"ttEIekt3CZI=\",\n",
      "      type: \"CONTAINER\",\n",
      "      containerType: \"SOURCE\",\n",
      "      createdAt: \"2024-09-13T09:46:27.311Z\"\n",
      "    }\n",
      "  ]\n",
      "}\n"
     ]
    }
   ],
   "source": [
    "import * as u from '../utils/index.ts'\n",
    "\n",
    "// Connect to postgres\n",
    "const pg1 = await u.pgCreateClient(5531)\n",
    "const pg2 = await u.pgCreateClient(5532)\n",
    "const pg3 = await u.pgCreateClient(5533)\n",
    "\n",
    "// Connect to dremio and add postgres sources if not already there\n",
    "// IMPORTANT: if it's the first time running, it may fail. Just run it again\n",
    "const drm = await u.drmCreateClient()\n",
    "try {\n",
    "  await Promise.all([\n",
    "    u.drmSetupPostgres(drm,\"postgres1\", \"postgres1\"),\n",
    "    u.drmSetupPostgres(drm, \"postgres2\", \"postgres2\"),\n",
    "    u.drmSetupPostgres(drm, \"postgres3\", \"postgres3\"),\n",
    "  ]);\n",
    "}catch(e){\n",
    "  if(e.httpStatus === 409) console.log(\"Postgres sources already there - status 409\")\n",
    "  else throw e\n",
    "}\n",
    "\n",
    "\n",
    "// Check if everything is up\n",
    "console.log('')\n",
    "await u.pgLogTables(pg1)\n",
    "console.log(await u.drmApi(drm, 'GET', '/catalog'))"
   ]
  },
  {
   "cell_type": "code",
   "execution_count": 8,
   "metadata": {},
   "outputs": [
    {
     "name": "stdout",
     "output_type": "stream",
     "text": [
      "Tables: [ { table_name: \"patients\" }, { table_name: \"blood_tests\" } ]\n",
      "Tables: [ { table_name: \"patients\" } ]\n",
      "09:48:27.264 |-WARN  in it.unibz.inf.ontop.cli.utils.EnvCli - Ignoring environment variable ONTOP_MAPPING_FILE=/opt/ontop/input/1/mapping.ttl for explicitly specified option -m\n",
      "09:48:28.547 |-INFO  in com.dremio.jdbc.Driver - Enabling Netty native memory API for Java9+\n",
      "09:48:28.790 |-INFO  in c.c.dremio.common.config.SabotConfig - Configuration and plugin file(s) identified in 75ms.\n",
      "Base Configuration:\n",
      "\t- jar:file:/opt/ontop/jdbc/driver-gitexclude.jar!/sabot-default.conf\n",
      "\n",
      "Intermediate Configuration and Plugin files, in order of precedence:\n",
      "\t- jar:file:/opt/ontop/jdbc/driver-gitexclude.jar!/sabot-module.conf\n",
      "\n",
      "\n",
      "09:48:28.900 |-INFO  in c.o.a.arrow.memory.BaseAllocator - Debug mode disabled. Enable with the VM option -Darrow.memory.debug.allocator=true.\n",
      "09:48:28.902 |-INFO  in c.o.a.a.m.DefaultAllocationManagerOption - allocation manager type not specified, using netty as the default type\n",
      "09:48:28.903 |-INFO  in c.o.a.arrow.memory.CheckAllocator - Using DefaultAllocationManager at memory/DefaultAllocationManagerFactory.class\n",
      "09:48:30.537 |-INFO  in c.c.dremio.sabot.rpc.user.UserClient - [USER]: Channel closed null <--> null (user client)\n",
      "09:48:30.681 |-INFO  in i.u.i.o.a.r.impl.QuestQueryProcessor - Ontop has completed the setup and it is ready for query answering!\n",
      "09:48:30.689 |-INFO  in i.u.i.o.r.r.i.OntopVirtualRepository - Ontop virtual repository initialized successfully!\n",
      "09:48:30.706 |-INFO  in c.c.dremio.common.config.SabotConfig - Configuration and plugin file(s) identified in 5ms.\n",
      "Base Configuration:\n",
      "\t- jar:file:/opt/ontop/jdbc/driver-gitexclude.jar!/sabot-default.conf\n",
      "\n",
      "Intermediate Configuration and Plugin files, in order of precedence:\n",
      "\t- jar:file:/opt/ontop/jdbc/driver-gitexclude.jar!/sabot-module.conf\n",
      "\n",
      "\n",
      "09:48:30.708 |-WARN  in c.c.d.telemetry.api.metrics.Metrics - Removing old metric since name matched newly registered metric. Metric name: USER-send-durations-ms\n",
      "09:48:30.739 |-INFO  in c.c.dremio.common.config.SabotConfig - Configuration and plugin file(s) identified in 3ms.\n",
      "Base Configuration:\n",
      "\t- jar:file:/opt/ontop/jdbc/driver-gitexclude.jar!/sabot-default.conf\n",
      "\n",
      "Intermediate Configuration and Plugin files, in order of precedence:\n",
      "\t- jar:file:/opt/ontop/jdbc/driver-gitexclude.jar!/sabot-module.conf\n",
      "\n",
      "\n",
      "09:48:30.741 |-WARN  in c.c.d.telemetry.api.metrics.Metrics - Removing old metric since name matched newly registered metric. Metric name: USER-send-durations-ms\n",
      "{\"@timestamp\":\"2024-09-13T09:48:31.362Z\",\"message\":\"query:all\",\"application\":\"Ontop\",\"payload\":{\"queryId\":\"4fa5e101-c8ec-40e8-aad0-95db8164761e\",\"classesUsedInQuery\":[\"http://example.org/Patient\"],\"propertiesUsedInQuery\":[],\"tables\":[\"\\\"postgres1.public\\\".\\\"patients\\\"\",\"\\\"postgres2.public\\\".\\\"patients\\\"\"],\"reformulationDuration\":101,\"reformulationCacheHit\":false,\"httpHeaders\":{},\"sparqlQuery\":\"\\n    PREFIX rdf: <http://www.w3.org/1999/02/22-rdf-syntax-ns#>\\n    PREFIX rdfs: <http://www.w3.org/2000/01/rdf-schema#>\\n    PREFIX : <http://example.org/> \\n\\n    SELECT * WHERE {\\n      ?sub a :Patient.\\n    } \\n  \\n    \",\"reformulatedQuery\":\"ans1(sub)\\nCONSTRUCT [sub] [sub/RDF(DB_IDX_2(v0,http://example.org/patients2/{}(INTEGERToVARCHAR(patient_id1m2)),http://example.org/patients/{}(CHARACTER VARYINGToVARCHAR(patient_uuid1m3))),IRI)]\\n   NATIVE [patient_id1m2, patient_uuid1m3, v0]\\nSELECT v9.\\\"patient_id1m2\\\" AS \\\"patient_id1m2\\\", v9.\\\"patient_uuid1m3\\\" AS \\\"patient_uuid1m3\\\", v9.\\\"v0\\\" AS \\\"v0\\\"\\nFROM ((SELECT v3.\\\"patient_id1m2\\\" AS \\\"patient_id1m2\\\", CAST(CASE WHEN (RANDOM(-811067368) > 1) THEN CAST('' AS CHARACTER VARYING) ELSE NULL END AS CHARACTER VARYING) AS \\\"patient_uuid1m3\\\", 0 AS \\\"v0\\\"\\nFROM (SELECT DISTINCT v1.\\\"patient_id\\\" AS \\\"patient_id1m2\\\"\\nFROM \\\"postgres1.public\\\".\\\"patients\\\" v1\\nWHERE v1.\\\"patient_id\\\" IS NOT NULL\\n) v3\\n)UNION ALL \\n(SELECT CAST(CASE WHEN (RANDOM(-1381669001) > 1) THEN CAST('' AS INTEGER) ELSE NULL END AS INTEGER) AS \\\"patient_id1m2\\\", v7.\\\"patient_uuid1m3\\\" AS \\\"patient_uuid1m3\\\", 1 AS \\\"v0\\\"\\nFROM (SELECT DISTINCT v5.\\\"patient_uuid\\\" AS \\\"patient_uuid1m3\\\"\\nFROM \\\"postgres2.public\\\".\\\"patients\\\" v5\\nWHERE v5.\\\"patient_uuid\\\" IS NOT NULL\\n) v7\\n)) v9\\n\\n\",\"executionBeforeUnblockingDuration\":353,\"executionAndFetchingDuration\":397,\"totalDuration\":498,\"resultCount\":30}}\n",
      "09:48:31.372 |-INFO  in c.c.dremio.sabot.rpc.user.UserClient - [USER]: Channel closed null <--> null (user client)\n",
      "\n",
      "sub\n",
      "http://example.org/patients2/5\n",
      "http://example.org/patients2/4\n",
      "http://example.org/patients2/10\n",
      "http://example.org/patients2/6\n",
      "http://example.org/patients2/2\n",
      "http://example.org/patients2/7\n",
      "http://example.org/patients2/1\n",
      "http://example.org/patients2/8\n",
      "http://example.org/patients2/9\n",
      "http://example.org/patients2/3\n",
      "http://example.org/patients/66303ba9-6e3c-4db1-8471-f96ccee7d287\n",
      "http://example.org/patients/8903ec20-7d86-4d13-8509-df602556d2f0\n",
      "http://example.org/patients/fe2a0143-b379-4ce7-a936-cce2edd6d831\n",
      "http://example.org/patients/3eb6c99a-8cac-425c-b0c3-f0610458f3cb\n",
      "http://example.org/patients/874cd4f5-5fb9-4e54-b19e-edc12792bc86\n",
      "http://example.org/patients/688ef398-1b8b-415b-8ccb-dea602ad958a\n",
      "http://example.org/patients/e0e80fd5-1c9d-4cfb-9e0e-536afa44f76a\n",
      "http://example.org/patients/9bf87e47-4866-45b9-98b1-11f7dfecd774\n",
      "http://example.org/patients/efbc6b91-804a-4c70-8c43-6db665673c02\n",
      "http://example.org/patients/5c0c7577-75e4-4a89-b948-78015ee0d329\n",
      "http://example.org/patients/af702c70-ec2f-4f34-ad70-c2252ce5b07f\n",
      "http://example.org/patients/bf015747-c030-463b-b51f-327501a0e7f0\n",
      "http://example.org/patients/d6f3cdba-cf23-447b-92d2-a635319f1fb6\n",
      "http://example.org/patients/13459fd8-4594-4bbf-bb80-012cc63e7639\n",
      "http://example.org/patients/72cf7248-6c53-457e-8bb5-89971ea54e94\n",
      "http://example.org/patients/a0daccfc-42ff-4ee7-b1d5-6d291562e16b\n",
      "http://example.org/patients/a55b8114-4719-4571-afb8-e22ebf29567b\n",
      "http://example.org/patients/54268531-f456-4dce-a42e-20fef243cc21\n",
      "http://example.org/patients/8056eca0-559b-4595-8958-a5eaaa5a2549\n",
      "http://example.org/patients/51d24011-95ab-4f4e-a7e1-ab17d2635ed9\n",
      "\n"
     ]
    }
   ],
   "source": [
    "u.settings.debug = true\n",
    "\n",
    "await u.pgClear(pg1, pg2, pg3)\n",
    "await u.pgLoadSQLData(pg1, './data/postgres/hospital.sql')\n",
    "await u.pgLoadSQLData(pg2, './data/postgres/patients.sql')\n",
    "await u.pgLogTables(pg1)\n",
    "await u.pgLogTables(pg2)\n",
    "\n",
    "\n",
    "console.log(await u.ontopRunQuery({}, `\n",
    "    PREFIX rdf: <http://www.w3.org/1999/02/22-rdf-syntax-ns#>\n",
    "    PREFIX rdfs: <http://www.w3.org/2000/01/rdf-schema#>\n",
    "    PREFIX : <http://example.org/> \n",
    "\n",
    "    SELECT * WHERE {\n",
    "      ?sub a :Patient.\n",
    "    } \n",
    "  \n",
    "    `))\n",
    "    "
   ]
  }
 ],
 "metadata": {
  "kernelspec": {
   "display_name": "Deno",
   "language": "typescript",
   "name": "deno"
  },
  "language_info": {
   "codemirror_mode": "typescript",
   "file_extension": ".ts",
   "mimetype": "text/x.typescript",
   "name": "typescript",
   "nbconvert_exporter": "script",
   "pygments_lexer": "typescript",
   "version": "5.5.2"
  }
 },
 "nbformat": 4,
 "nbformat_minor": 2
}
